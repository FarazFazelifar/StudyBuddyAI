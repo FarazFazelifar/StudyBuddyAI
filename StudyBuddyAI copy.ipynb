{
 "cells": [
  {
   "cell_type": "markdown",
   "metadata": {},
   "source": [
    "# StudyBuddyAI"
   ]
  },
  {
   "cell_type": "markdown",
   "metadata": {},
   "source": [
    "StudyBuddy AI is an intelligent learning assistant that leverages advanced AI technologies to enhance the studying experience. It uses a sophisticated Retrieval-Augmented Generation (RAG) system to provide personalized answers and generate topic-specific flashcards based on your study materials.\n",
    "\n",
    "Features\n",
    "- Document Processing: Ingest and process PDF study materials.\n",
    "- Intelligent Q&A: Get accurate answers to questions about your study material.\n",
    "- Dynamic Flashcard Generation: Create custom flashcards on any topic within your documents.\n",
    "- RAG Technology: Utilizes state-of-the-art Retrieval-Augmented Generation for context-aware responses."
   ]
  },
  {
   "cell_type": "markdown",
   "metadata": {},
   "source": [
    "## RAG\n",
    "If you don't know what RAG (Retrieval Augmented Generation) is, you can follow my [RAG tutorial](https://github.com/FarazFazelifar/RAG-Demo1) to learn and understand what RAG is and implement one from scratch."
   ]
  },
  {
   "cell_type": "markdown",
   "metadata": {},
   "source": [
    "## Stage 0: Setting Up\n",
    "As always, we start by importing our requiered packages. You can install them by running `pip install -r requierments.txt`"
   ]
  },
  {
   "cell_type": "code",
   "execution_count": 1,
   "metadata": {},
   "outputs": [],
   "source": [
    "import os\n",
    "import pickle\n",
    "import json\n",
    "from typing import List, Dict\n",
    "from langchain_community.document_loaders import PyPDFLoader\n",
    "from langchain.text_splitter import RecursiveCharacterTextSplitter\n",
    "from langchain_community.embeddings import HuggingFaceEmbeddings\n",
    "from langchain_community.vectorstores import FAISS\n",
    "from langchain.chains import RetrievalQA\n",
    "from langchain_community.llms import Ollama"
   ]
  },
  {
   "cell_type": "markdown",
   "metadata": {},
   "source": [
    "## Stage 1: StudyBuddyAI\n",
    "StudyBuddy AI is an intelligent learning companion that leverages state-of-the-art AI technologies to enhance the studying experience. At its core, StudyBuddy AI utilizes a sophisticated Retrieval-Augmented Generation (RAG) system. It leverages RAG to answer questions and also generate flashcards. I am using llama3.1 as the LLM and the all-MiniLM model as the embedding model."
   ]
  },
  {
   "cell_type": "code",
   "execution_count": 2,
   "metadata": {},
   "outputs": [],
   "source": [
    "from modules.studyBuddyAI import AdvancedStudyBuddyAI"
   ]
  },
  {
   "cell_type": "code",
   "execution_count": 3,
   "metadata": {},
   "outputs": [],
   "source": [
    "def save_state(studybuddy: AdvancedStudyBuddyAI, filename: str = \"advanced_studybuddy_state.pkl\"):\n",
    "    with open(filename, \"wb\") as f:\n",
    "        pickle.dump(studybuddy, f)\n",
    "    print(f\"State saved to {filename}\")\n",
    "\n",
    "def load_state(filename: str = \"advanced_studybuddy_state.pkl\") -> AdvancedStudyBuddyAI:\n",
    "    if os.path.exists(filename):\n",
    "        with open(filename, \"rb\") as f:\n",
    "            return pickle.load(f)\n",
    "    return AdvancedStudyBuddyAI(\"documents/\")"
   ]
  },
  {
   "cell_type": "markdown",
   "metadata": {},
   "source": [
    "## Stage 2: Running the main program\n",
    "After loading the state and creating our AdvancedStudyBuddyAI instance, we can run the program and use it to enhance our learning!"
   ]
  },
  {
   "cell_type": "code",
   "execution_count": null,
   "metadata": {},
   "outputs": [],
   "source": [
    "studybuddy = load_state()"
   ]
  },
  {
   "cell_type": "code",
   "execution_count": null,
   "metadata": {},
   "outputs": [],
   "source": [
    "while True:\n",
    "        print(\"\\nStudyBuddy AI - Main Menu\")\n",
    "        print(\"1. Process PDF Documents\")\n",
    "        print(\"2. Load Vector Database\")\n",
    "        print(\"3. Setup QA Chain\")\n",
    "        print(\"4. Ask a Question\")\n",
    "        print(\"5. Generate Flashcards\")\n",
    "        print(\"6. Generate Exam\")\n",
    "        print(\"7. Take Exam\")\n",
    "        print(\"8. Quit\")\n",
    "\n",
    "        choice = input(\"Enter your choice (1-8): \")\n",
    "\n",
    "        if choice == \"1\":\n",
    "            studybuddy.load_and_process_pdfs()\n",
    "        elif choice == \"2\":\n",
    "            studybuddy.load_vectorstore()\n",
    "        elif choice == \"3\":\n",
    "            studybuddy.setup_qa_chain()\n",
    "        elif choice == \"4\":\n",
    "            question = input(\"Enter your question: \")\n",
    "            result = studybuddy.query(question)\n",
    "            print(f\"Answer: {result['answer']}\")\n",
    "            print(\"\\nSources:\")\n",
    "            for i, source in enumerate(result['sources'], 1):\n",
    "                print(f\"{i}. {source[:200]}...\")\n",
    "        elif choice == \"5\":\n",
    "            topic = input(\"Enter the topic for the flashcards: \")\n",
    "            num_cards = int(input(\"How many flashcards do you want to generate? \"))\n",
    "            studybuddy.generate_and_save_flashcards(topic, num_cards)\n",
    "        elif choice == \"6\":\n",
    "            start_page = int(input(\"Enter the start page: \"))\n",
    "            end_page = int(input(\"Enter the end page: \"))\n",
    "            num_questions = int(input(\"Enter the number of questions: \"))\n",
    "            question_types = input(\"Enter question types (comma-separated, e.g., 'multiple choice,fill in the blank'): \").split(',')\n",
    "            studybuddy.generate_exam(start_page, end_page, num_questions, question_types)\n",
    "        elif choice == \"7\":\n",
    "            exam_file = studybuddy.list_available_exams()\n",
    "            if exam_file:\n",
    "                correct_answers, score = studybuddy.take_exam(exam_file)\n",
    "                with open(exam_file, 'r') as f:\n",
    "                    num_questions = len(json.load(f))\n",
    "                studybuddy.update_exam_history(exam_file, num_questions, correct_answers, score)\n",
    "        elif choice == \"8\":\n",
    "            print(\"Thank you for using Advanced StudyBuddy AI. Goodbye!\")\n",
    "            break\n",
    "        else:\n",
    "            print(\"Invalid choice. Please try again.\")"
   ]
  },
  {
   "cell_type": "code",
   "execution_count": null,
   "metadata": {},
   "outputs": [],
   "source": []
  }
 ],
 "metadata": {
  "kernelspec": {
   "display_name": ".venv",
   "language": "python",
   "name": "python3"
  },
  "language_info": {
   "codemirror_mode": {
    "name": "ipython",
    "version": 3
   },
   "file_extension": ".py",
   "mimetype": "text/x-python",
   "name": "python",
   "nbconvert_exporter": "python",
   "pygments_lexer": "ipython3",
   "version": "3.12.3"
  }
 },
 "nbformat": 4,
 "nbformat_minor": 2
}
